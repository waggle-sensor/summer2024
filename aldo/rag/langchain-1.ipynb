{
 "cells": [
  {
   "cell_type": "markdown",
   "metadata": {},
   "source": [
    "# RAG with Langchain \n",
    "\n",
    "This notebook shows the following: \n",
    "1. data ingestion with one repository\n",
    "2. splitting (chunking) of documents\n",
    "3. embedding those splits and creating a vector database (VB)\n",
    "4. simple query of that VB\n",
    "5. advanced query using a retriever and chains\n",
    "\n",
    "---"
   ]
  },
  {
   "cell_type": "markdown",
   "metadata": {},
   "source": [
    "## Setup"
   ]
  },
  {
   "cell_type": "markdown",
   "metadata": {},
   "source": [
    "Make sure to clone the `sage-website` repository and pip install the following:\n",
    "* langchain\n",
    "* langchain_community\n",
    "* unstructured\n",
    "* markdown"
   ]
  },
  {
   "cell_type": "code",
   "execution_count": 86,
   "metadata": {},
   "outputs": [],
   "source": [
    "from tqdm.notebook import tqdm\n",
    "from langchain.vectorstores import Chroma\n",
    "from langchain.document_loaders import DirectoryLoader, UnstructuredMarkdownLoader\n",
    "from langchain.text_splitter import MarkdownTextSplitter\n",
    "from langchain.embeddings import OllamaEmbeddings\n",
    "from langchain.llms import Ollama\n",
    "from langchain.prompts import ChatPromptTemplate\n",
    "from langchain_core.output_parsers import StrOutputParser\n",
    "from langchain_core.runnables import RunnablePassthrough"
   ]
  },
  {
   "cell_type": "markdown",
   "metadata": {},
   "source": [
    "## Data Ingestion\n",
    "> Integrate code"
   ]
  },
  {
   "cell_type": "code",
   "execution_count": 33,
   "metadata": {},
   "outputs": [
    {
     "data": {
      "text/plain": [
       "[Document(metadata={'source': 'sage-website/docs/about/architecture.md'}, page_content='sidebar_label: Architecture sidebar_position: 2\\n\\nArchitecture\\n\\nThe cyberinfrastructure consists of coordinating hardware and software services enabling AI at the edge. Below is a quick summary of the different infrastructure pieces, starting at the highest-level and zooming into each component to understand the relationships and role each plays.\\n\\nHigh-Level Infrastructure\\n\\nThere are 2 main components of the cyberinfrastructure: - Nodes that exist at the edge - The cloud that hosts services and storage systems to facilitate running “science goals” @ the edge\\n\\nEvery edge node maintains connections to 2 core cloud components: one to a Beehive and one to a Beekeeper\\n\\nBeekeeper\\n\\nThe Beekeeper is an administrative server that allows system administrators to perform actions on the nodes such as gather health metrics and perform software updates. All nodes \"phone home\" to their Beekeeper and maintain this \"life-line\" connection.\\n\\nDetails & source code: https://github.com/waggle-sensor/beekeeper\\n\\nBeehive\\n\\nThe Node-to-Beehive connection is the pipeline for the science. It is over this connection that instructions for the node will be sent, in addition to how data is published into the Beehive storage systems from applications (plugins) running on the nodes.\\n\\nThe overall infrastructure supports multiple Beehives, where each node is associated with a single Beehive. The set of nodes associated with a Beehive creates a \"project\" where each \"project\" is separate, having its own data store, web services, etc.\\n\\nIn the example above, there are 2 nodes associated with Beehive 1, while a single node is associated with Beehive 2. With all nodes, in this example, being administered by a single Beekeeper.\\n\\nNote: the example above shows a single Beekeeper, but a second Beekeeper could have been used for administrative isolation.\\n\\nDetails & source code: https://github.com/waggle-sensor/waggle-beehive-v2\\n\\nBeehive Infrastructure\\n\\nLooking deeper into the Beehive infrastructure, it contains 2 main components: - software services such as the Edge Scheduler (ES), Lambda Triggers (LT), data APIs, and websites/portals - data storage systems such as the Data Repository (DR) and the Edge Code Repository (ECR)\\n\\nThe Beehive is the “command center” for interacting with the Waggle nodes at the edge. Hosting websites and interfaces allowing scientists to create science goals to run plugins at the edge & browse the data produced by those plugins.\\n\\nThe software services and data storage systems are deployed within a kubernetes environment to allow for easy administration and to support running in a multiple server architecture, supporting redundancy and service replication.\\n\\nWhile the services running within Beehive are many (both graphical and REST style API interfaces), the following is an outline of the most vital.\\n\\nData Repository (DR)\\n\\nThe Data Repository is the data store for housing all the edge produced plugin data. It consists of different storage technologies (i.e. influxdb) and techniques to store simple textual data (i.e. key-value pairs) in addition to large blobular data (i.e. audio, images, video). The Data Repository additionally has an API interface for easy access to this data.\\n\\nThe data store is a time-series database of key-value pairs with each entry containing metadata about how and when the data originated @ the edge. Included in this metadata is the data collection timestamp, plugin version used to collect the data, the node the plugin was run on, and the specific compute unit within the node that the plugin was running on.\\n\\njson { \"timestamp\":\"2022-06-10T22:37:47.369013647Z\", \"name\":\"iio.in_temp_input\", \"value\":25050, \"meta\":{ \"host\":\"0000dca632ed6d06.ws-rpi\", \"job\":\"sage\", \"node\":\"000048b02d35a97c\", \"plugin\":\"plugin-iio:0.6.0\", \"sensor\":\"bme680\", \"task\":\"iio-rpi\", \"vsn\":\"W08C\" } }\\n\\nIn the above example, the value of 25050 was collected @ 2022-06-10T22:37:47.369013647Z from the bme680 sensor on node 000048b02d35a97c via the plugin-iio:0.6.0 plugin.\\n\\nNote: see the Access and use data site for more details and data access examples.\\n\\nDetails & source code: https://github.com/waggle-sensor/data-repository\\n\\nEdge Scheduler (ES)\\n\\nThe Edge Scheduler is defined as the suite of services running in Beehive that facilitate running plugins @ the edge. Included here are user interfaces and APIs for scientists to create and manage their science goals. The Edge Scheduler continuously analyzes node workloads against all the science goals to determine how the science goals are deployed to the Beehive nodes. When it is determined that a node\\'s science goals are to be updated, the Edge Scheduler interfaces with WES running on those nodes to update the node\\'s local copy of the science goals. Essentially, the Edge Scheduler is the overseer of all the Beehive\\'s nodes, deploying science goals to them to meet the scientists plugin execution objectives.\\n\\nDetails & source code: https://github.com/waggle-sensor/edge-scheduler\\n\\nEdge Code Repository (ECR)\\n\\nThe Edge Code Repository is the \"app store\" that hosts all the tested and benchmarked edge plugins that can be deployed to the nodes. This is the interface allowing users to discover existing plugins (for potential inclusion in their science goals) in addition to submitting their own. At it\\'s core, the ECR provides a verified and versioned repository of plugin Docker images that are pulled by the nodes when a plugin is to be downloaded as run-time component of a science goal.\\n\\nDetails & source code: https://github.com/waggle-sensor/edge-code-repository\\n\\nLambda Triggers (LT)\\n\\nThe Lambda Triggers service provides a framework for running reactive code within the Beehive. There are two kinds of reaction triggers considered here: From-Edge and To-Edge.\\n\\nFrom-Edge triggers, or messages that originate from an edge node, can be used to trigger lambda functions -- for example, if high wind velocity is detected, a function could be triggered to determine how to reconfigure sensors or launch a computation or send an alert.\\n\\nTo-Edge triggers are messages that are to change a node\\'s behavior. For example an HPC calculation or cloud-based data analysis could trigger an Edge Scheduler API call to request a science goal to be run on a particular set of edge nodes.\\n\\nDetails & source code: https://github.com/waggle-sensor/lambda-triggers\\n\\nNodes\\n\\nNodes are the edge computing component of the cyberinfrastructure. All nodes consist of 3 items: 1. Persisent storage for housing downloaded plugins and caching published data before it is transferred to the node\\'s Beehive 2. CPU and GPU compute modules where plugins are executed and perform the accelerated inferences 3. Sensors such as environment sensors, cameras and LiDAR systems\\n\\nEdge nodes enable fast computation @ the edge, leveraging the large non-volatile storage to handle caching of high frequency data (including images, audio and video) in the event the node is \"offline\" from its Beehive. Through expansion ports the nodes support the adding and removing of sensors to fully customize the node deployments for the particular deployment environment.\\n\\nOverall, even though the nodes may use different CPU architectures and different sensor configurations, they all leverage the same Waggle Edge Stack (WES) to run plugins.\\n\\nWild Sage Node (Wild Waggle Node)\\n\\nThe Wild Sage Node (or Wild Waggle Node) is a custom built weather-proof enclosure intended for remote outdoor installation. The node features software and hardware resilience via a custom operating system and custom circuit board. Internal to the node is a power supply and PoE network switch supporting the addition of sensors through standard Ethernet (PoE), USB and other embedded protocols via the node expansion ports.\\n\\nThe technical capabilities of these nodes consists of: - NVidia Xavier NX ARM64 Node Controller w/ 8GB of shared CPU/GPU RAM - 1 TB of NVMe storage - 4x PoE expansion ports - 1x USB2 expansion port - optional Stevenson Shield housing a RPi 4 w/ environmental sensors & microphone - optional 2nd NVidia Xavier NX ARM64 Edge Processor\\n\\nNode installation manual: https://sagecontinuum.org/docs/installation-manuals/wsn-manual\\n\\nDetails & source code: https://github.com/waggle-sensor/wild-waggle-node\\n\\nBlade Nodes\\n\\nA Blade Node is a standard commercially available server intended for use in a climate controlled machine room, or extended temperature range telecom-grade blades for harsher environments. The AMD64 based operating system supports these types of nodes, enabling the services needed to support WES.\\n\\nThe above diagram shows the basic technical configuration of a Blade Node: - Multi-core ARM64 - 32GB of RAM - Dedicated NVida T4 GPU - 1 TB of SSD storage\\n\\nNote: it is possible to add the same optional Stevenson Shield housing that is available to the Wild Sage Nodes\\n\\nDetails & source code: https://github.com/waggle-sensor/waggle-blade\\n\\nRunning plugins @ the Edge\\n\\nIncluded in the Waggle operating systems are the core components necessary to enable running plugins @ the edge. At the heart of this is k3s, which creates a protected & isolated run-time environment. This environment combined with the tools and services provided by WES enable plugin access to the node\\'s CPU, GPU, sensors and cameras.\\n\\nWaggle Edge Stack (WES)\\n\\nThe Waggle Edge Stack is the set of core services running within the edge node\\'s k3s run-time environment that supports all the features that plugins need to run on the Waggle nodes. The WES services coordinate with the core Beehive services to download & run scheduled plugins (including load balancing) and facilitate uploading plugin published data to the Beehive data repository. Through abstraction technologies and WES provided tools, plugins have access to sensor and camera data.\\n\\nThe above diagram demonstrates 2 plugins running on a Waggle node. Plugin 1 (\"neon-kafka\") is an example plugin that is running alongside Plugin 2 (\"data-smooth\"). In this example, \"neon-kafka\" (via the WES tools) is reading metrics from the node\\'s sensors and then publishing that data within the WES run-time environment (internal to the node). At the same time, the \"data-smooth\" plugin is subscribing to this data stream, performing some sort of inference and then publishing the inference results (via WES tools) to Beehive.\\n\\nNote: see the Edge apps guide on how to create a Waggle plugin.\\n\\nDetails & source code: https://github.com/waggle-sensor/waggle-edge-stack\\n\\nWhat is a plugin?\\n\\nPlugins are the user-developed modules that the cyberinfrastructure is designed around. At it\\'s simplest definition a \"plugin\" is code that runs @ the edge to perform some task. That task may be simply collecting sample camera images or a complex inference combining sensor data and results published from other plugins. A plugin\\'s code will interface with the edge node\\'s sensor(s) and then publish resulting data via the tools provided by WES. All developed plugins are hosted by the Beehive Edge Code Repository.\\n\\nSee how to create plugins for details.\\n\\nScience Goals\\n\\nA \"science goal\" is a rule-set for how and when plugins are run on edge nodes. These science goals are created by scientist to accomplish a science objective through the execution of plugins in a specific manner. Goals are created, in a human language, and managed within the Beehive Edge Scheduler. It is then the cyberinfrastucture responsibility to deploy the science goals to the edge nodes and execute the goal\\'s plugins. The tutorial walks through running a science goal.\\n\\nLoRaWAN\\n\\nThe Waggle Edge Stack includes the ChirpStack software stack and other services to facilitate communication between Nodes and LoRaWAN devices. This empowers Nodes to effortlessly establish connections with wireless sensors, enabling your plugins to seamlessly access and harness valuable data from these sensors.\\n\\nTo get started using LoRaWAN, head over to the Contact Us page. A tutorial will be available soon showing you how to get started with LoRaWAN.\\n\\nThe above diagram demonstrates the hardware in Nodes and services in WES that enable Nodes to use LoRaWAN and publish the measurements to a Beehive. The following sections will explain each componenent and service.\\n\\nsource code: - wes-chirpstack - wes-chirpstack-server - wes-rabbitmq - Tracker - Lorawan Listener Plugin\\n\\nWhat is LoRaWAN?\\n\\nLoRaWAN, short for \"Long Range Wide Area Network,\" is a wireless communication protocol designed for low-power, long-range communication between IoT (Internet of Things) devices. It employs a low-power wide-area network (LPWAN) technology, making it ideal for connecting remote sensors and devices. For more information view the documentation here.\\n\\nChirpstack\\n\\nChirpStack is a robust and open-source LoRaWAN Network Server that enables efficient management of LoRaWAN devices, gateways, and data. Its architecture consists of several crucial components, each serving a distinct role in LoRaWAN network operations. Below, we provide a brief overview of these components along with links to ChirpStack documentation for further insights.\\n\\nChirpstack documentation\\n\\nUDP Packet Forwarder\\n\\nThe UDP Packet Forwarder is an essential component that acts as a bridge between LoRa gateways and the ChirpStack Network Server. It receives incoming packets from LoRa gateways and forwards them to the ChirpStack Gateway Bridge for further processing. To learn more about the UDP Packet Forwarder, refer to the documentation here.\\n\\nChirpStack Gateway Bridge\\n\\nThe ChirpStack Gateway Bridge is responsible for translating gateway-specific protocols into a standard format for the ChirpStack Network Server. It connects to a UDP Packet Forwader, ensuring that data is properly formatted and can be seamlessly processed by the network server. For in-depth information on the ChirpStack Gateway Bridge, explore the documentation here.\\n\\nMQTT Broker\\n\\nWES includes a MQTT (Message Queuing Telemetry Transport) broker to handle communication between various services. MQTT provides a lightweight and efficient messaging system. This service ensures that data flows smoothly between the network server, gateways, and applications. You can find detailed information about the MQTT broker integration in the ChirpStack documentation here.\\n\\nChirpStack Server\\n\\nThe ChirpStack Server serves as the core component, managing device sessions, data, and application integrations. It utilizes Redis for device sessions, metrics, and caching, ensuring efficient data handling and retrieval. For persistent data storage, ChirpStack uses PostgreSQL, accommodating records for tenants, applications, devices, and more. For a comprehensive understanding of the ChirpStack Server and its associated database technologies, consult the ChirpStack documentation here.\\n\\nNOTE: Chirpstack v4 combined the application and network server into one component.\\n\\nTracker\\n\\nThe Tracker is a service designed to record the connectivity of LoRaWAN devices to the Nodes. This service uses the information received from the MQTT broker to call ChirpStack\\'s gRPC API. The information received from the API is then used to keep the Node\\'s manifest up-to-date. Subsequently, it forwards this updated manifest to the Beehive. For more information, view the documentation here.\\n\\nLorawan Listener Plugin\\n\\nThe LoRaWAN Listener is a plugin designed to publish measurements collected from LoRaWAN devices. It simplifies the process of extracting and publishing valuable data from these devices. For more information about the plugin view the plugin page here.\\n\\nLorawan Device Compatibility\\n\\nThe Wild Sage Node is designed to support a wide range of Lorawan devices, ensuring flexibility and adaptability for various applications. If you are wondering which Lorawan devices can be connected to a Wild Sage Node, the device must have the following tech specs:\\n\\ndesigned for US915 (902–928 MHz) frequency region.\\n\\ncompatible with Lorawan Mac versions 1.0.0 - 1.1.0\\n\\ncompatible with Chirpstack\\'s Lorawan Network Server\\n\\nThe device supports Over-The-Air Activation (OTAA) or Activation By Personalization (ABP)\\n\\nThe device has a Lorawan device class of A, B, or C\\n\\nIt is important to note that all channels within the US915 frequency band are enabled in a Wild Sage Node. If you wish to learn more about our Lorawan Gateway, please visit our portal. For inquiries about supporting Lorawan regions other than US915, please Contact Us.\\n\\nDevice Examples\\n\\nWhether you are designing your own Lorawan sensor, looking for a Lorawan data logger, or seeking an off-the-shelf Lorawan device the Wild Sage Node will support it, we have examples for you:\\n\\nDesigning your own Lorawan sensor?\\n\\nArduino MKR WAN 1310\\n\\nLooking for a Lorawan data logger?\\n\\nICT International MFR Node\\n\\nLooking for an off-the-shelf Lorawan device?\\n\\nICT International SFM1X Sap Flow Meter\\n\\nSeeking Lorawan device manufacturers?\\n\\nICT International\\n\\nRAKwireless\\n\\nThe Things Network Device Marketplace\\n\\nDecentLab'),\n",
       " Document(metadata={'source': 'sage-website/docs/about/overview.md'}, page_content='sidebar_label: Overview sidebar_position: 1\\n\\nSage: A distributed software-defined sensor network.\\n\\nWhat is Sage?\\n\\nGeographically distributed sensor systems that include cameras, microphones, and weather and air quality stations can generate such large volumes of data that fast and efficient analysis is best performed by an embedded computer connected directly to the sensor. Sage is exploring new techniques for applying machine learning algorithms to data from such intelligent sensors and then building reusable software that can run programs within the embedded computer and transmit the results over the network to central computer servers. Distributed, intelligent sensor networks that can collect and analyze data are an essential tool for scientists seeking to understand the impacts of global urbanization, natural disasters such as flooding and wildfires, and climate change on natural ecosystems and city infrastructure.\\n\\nSage is deploying sensor nodes that support machine learning frameworks in environmental testbeds in California, Colorado, and Kansas and in urban environments in Illinois and Texas. The reusable cyberinfrastructure running on these testbeds will give climate, traffic, and ecosystem scientists new data for building models to study these coupled systems. The software components developed are open source and provide an open architecture to enable scientists from a wide range of fields to build their own intelligent sensor networks.\\n\\nPartners are deploying testbeds in Australia, Japan, UK, and Taiwan, providing scientists with even more data for analysis. The toolkit is also extending the current educational curriculum used in Chicago to inspire young people – with an emphasis on women and minorities, to pursue science, technology, and mathematics careers – by providing a platform for students to explore measurement-based science questions related to the natural and built environments.\\n\\nThe data from sensors and applications is hosted in the cloud to facilitate easy data analysis.\\n\\nWho are the users?\\n\\nThe most common users have included:\\n\\nDomain scientists interested in developing edge AI applications.\\n\\nUsers interested in sensor and application-produced datasets.\\n\\nCyberinfrastructure researchers interested in platform research.\\n\\nDomain scientists interested in adding new sensors and deploying nodes to answer specific science questions.\\n\\nHow do I use the platform?\\n\\nThis depends on your desired interaction interest. The platform consists of edge compute applications which process data (ex. sensor readings, camera images, audio recordings, etc). These edge applications then produce their own data (ex. inferences) and upload the results to a cloud database. This cloud database can be accessed directly and/or additional compute can be performed on the cloud data.\\n\\nThe entry-point into learning about your interaction with the system might be best directed by getting answers (by following the links) to the question(s) you are most interested in.\\n\\nHow do I access sensors? - Want to learn about existing, supported sensors? - Do you have a new sensor that you want to write an edge application for?\\n\\nHow do I run edge apps? - Want to know how to create an edge app? - Want to know how your edge app can get access to edge sensor data? - Want to share your edge app data with other edge applications? - Want to know how to upload data to the cloud?\\n\\nHow do I access and use data? - Want to learn about how data is stored/organized? - Do you have data that is up in the cloud and want to know how to access it?\\n\\nHow do I compute in the cloud? - Want to know how to autonomously react to edge produced data? - Want to know how to trigger an HPC event? - Want to get a text message when your edge application does something cool?\\n\\nHow do I build my own device? - Want to set up your own device for local edge app development? - Want to teach AI to a classroom of students?\\n\\nHow is the cyberinfrastructure architected?\\n\\nIf you are interested in learning more about how the cyberinfrastructure works you can head on over to the Architecture Overview page.')]"
      ]
     },
     "execution_count": 33,
     "metadata": {},
     "output_type": "execute_result"
    }
   ],
   "source": [
    "## Load Markdown files in /about/\n",
    "md_path = \"./sage-website/docs/about/\"\n",
    "md_loader = DirectoryLoader(md_path, glob='./*.md', loader_cls=UnstructuredMarkdownLoader)\n",
    "md_docs = md_loader.load()\n",
    "md_docs"
   ]
  },
  {
   "cell_type": "markdown",
   "metadata": {},
   "source": [
    "## Splitting\n",
    "> Test with different splitters"
   ]
  },
  {
   "cell_type": "code",
   "execution_count": 55,
   "metadata": {},
   "outputs": [],
   "source": [
    "# Break up text into chunks\n",
    "chunk_size = 300\n",
    "chunk_overlap = 0\n",
    "md_splitter = MarkdownTextSplitter(chunk_size=chunk_size, chunk_overlap=chunk_overlap)\n",
    "splits = md_splitter.split_documents(md_docs)"
   ]
  },
  {
   "cell_type": "code",
   "execution_count": 57,
   "metadata": {},
   "outputs": [
    {
     "data": {
      "text/plain": [
       "[Document(metadata={'source': 'sage-website/docs/about/architecture.md'}, page_content='sidebar_label: Architecture sidebar_position: 2\\n\\nArchitecture'),\n",
       " Document(metadata={'source': 'sage-website/docs/about/architecture.md'}, page_content='The cyberinfrastructure consists of coordinating hardware and software services enabling AI at the edge. Below is a quick summary of the different infrastructure pieces, starting at the highest-level and zooming into each component to understand the relationships and role each plays.'),\n",
       " Document(metadata={'source': 'sage-website/docs/about/architecture.md'}, page_content='High-Level Infrastructure\\n\\nThere are 2 main components of the cyberinfrastructure: - Nodes that exist at the edge - The cloud that hosts services and storage systems to facilitate running “science goals” @ the edge'),\n",
       " Document(metadata={'source': 'sage-website/docs/about/architecture.md'}, page_content='Every edge node maintains connections to 2 core cloud components: one to a Beehive and one to a Beekeeper\\n\\nBeekeeper'),\n",
       " Document(metadata={'source': 'sage-website/docs/about/architecture.md'}, page_content='The Beekeeper is an administrative server that allows system administrators to perform actions on the nodes such as gather health metrics and perform software updates. All nodes \"phone home\" to their Beekeeper and maintain this \"life-line\" connection.'),\n",
       " Document(metadata={'source': 'sage-website/docs/about/architecture.md'}, page_content='Details & source code: https://github.com/waggle-sensor/beekeeper\\n\\nBeehive'),\n",
       " Document(metadata={'source': 'sage-website/docs/about/architecture.md'}, page_content='The Node-to-Beehive connection is the pipeline for the science. It is over this connection that instructions for the node will be sent, in addition to how data is published into the Beehive storage systems from applications (plugins) running on the nodes.'),\n",
       " Document(metadata={'source': 'sage-website/docs/about/architecture.md'}, page_content='The overall infrastructure supports multiple Beehives, where each node is associated with a single Beehive. The set of nodes associated with a Beehive creates a \"project\" where each \"project\" is separate, having its own data store, web services, etc.'),\n",
       " Document(metadata={'source': 'sage-website/docs/about/architecture.md'}, page_content='In the example above, there are 2 nodes associated with Beehive 1, while a single node is associated with Beehive 2. With all nodes, in this example, being administered by a single Beekeeper.'),\n",
       " Document(metadata={'source': 'sage-website/docs/about/architecture.md'}, page_content='Note: the example above shows a single Beekeeper, but a second Beekeeper could have been used for administrative isolation.\\n\\nDetails & source code: https://github.com/waggle-sensor/waggle-beehive-v2\\n\\nBeehive Infrastructure'),\n",
       " Document(metadata={'source': 'sage-website/docs/about/architecture.md'}, page_content='Looking deeper into the Beehive infrastructure, it contains 2 main components: - software services such as the Edge Scheduler (ES), Lambda Triggers (LT), data APIs, and websites/portals - data storage systems such as the Data Repository (DR) and the Edge Code Repository (ECR)'),\n",
       " Document(metadata={'source': 'sage-website/docs/about/architecture.md'}, page_content='The Beehive is the “command center” for interacting with the Waggle nodes at the edge. Hosting websites and interfaces allowing scientists to create science goals to run plugins at the edge & browse the data produced by those plugins.'),\n",
       " Document(metadata={'source': 'sage-website/docs/about/architecture.md'}, page_content='The software services and data storage systems are deployed within a kubernetes environment to allow for easy administration and to support running in a multiple server architecture, supporting redundancy and service replication.'),\n",
       " Document(metadata={'source': 'sage-website/docs/about/architecture.md'}, page_content='While the services running within Beehive are many (both graphical and REST style API interfaces), the following is an outline of the most vital.\\n\\nData Repository (DR)'),\n",
       " Document(metadata={'source': 'sage-website/docs/about/architecture.md'}, page_content='The Data Repository is the data store for housing all the edge produced plugin data. It consists of different storage technologies (i.e. influxdb) and techniques to store simple textual data (i.e. key-value pairs) in addition to large blobular data (i.e. audio, images, video). The Data Repository'),\n",
       " Document(metadata={'source': 'sage-website/docs/about/architecture.md'}, page_content='additionally has an API interface for easy access to this data.'),\n",
       " Document(metadata={'source': 'sage-website/docs/about/architecture.md'}, page_content='The data store is a time-series database of key-value pairs with each entry containing metadata about how and when the data originated @ the edge. Included in this metadata is the data collection timestamp, plugin version used to collect the data, the node the plugin was run on, and the specific'),\n",
       " Document(metadata={'source': 'sage-website/docs/about/architecture.md'}, page_content='compute unit within the node that the plugin was running on.'),\n",
       " Document(metadata={'source': 'sage-website/docs/about/architecture.md'}, page_content='json { \"timestamp\":\"2022-06-10T22:37:47.369013647Z\", \"name\":\"iio.in_temp_input\", \"value\":25050, \"meta\":{ \"host\":\"0000dca632ed6d06.ws-rpi\", \"job\":\"sage\", \"node\":\"000048b02d35a97c\", \"plugin\":\"plugin-iio:0.6.0\", \"sensor\":\"bme680\", \"task\":\"iio-rpi\", \"vsn\":\"W08C\" } }'),\n",
       " Document(metadata={'source': 'sage-website/docs/about/architecture.md'}, page_content='In the above example, the value of 25050 was collected @ 2022-06-10T22:37:47.369013647Z from the bme680 sensor on node 000048b02d35a97c via the plugin-iio:0.6.0 plugin.\\n\\nNote: see the Access and use data site for more details and data access examples.'),\n",
       " Document(metadata={'source': 'sage-website/docs/about/architecture.md'}, page_content='Details & source code: https://github.com/waggle-sensor/data-repository\\n\\nEdge Scheduler (ES)'),\n",
       " Document(metadata={'source': 'sage-website/docs/about/architecture.md'}, page_content='The Edge Scheduler is defined as the suite of services running in Beehive that facilitate running plugins @ the edge. Included here are user interfaces and APIs for scientists to create and manage their science goals. The Edge Scheduler continuously analyzes node workloads against all the science'),\n",
       " Document(metadata={'source': 'sage-website/docs/about/architecture.md'}, page_content=\"goals to determine how the science goals are deployed to the Beehive nodes. When it is determined that a node's science goals are to be updated, the Edge Scheduler interfaces with WES running on those nodes to update the node's local copy of the science goals. Essentially, the Edge Scheduler is the\"),\n",
       " Document(metadata={'source': 'sage-website/docs/about/architecture.md'}, page_content=\"overseer of all the Beehive's nodes, deploying science goals to them to meet the scientists plugin execution objectives.\"),\n",
       " Document(metadata={'source': 'sage-website/docs/about/architecture.md'}, page_content='Details & source code: https://github.com/waggle-sensor/edge-scheduler\\n\\nEdge Code Repository (ECR)'),\n",
       " Document(metadata={'source': 'sage-website/docs/about/architecture.md'}, page_content='The Edge Code Repository is the \"app store\" that hosts all the tested and benchmarked edge plugins that can be deployed to the nodes. This is the interface allowing users to discover existing plugins (for potential inclusion in their science goals) in addition to submitting their own. At it\\'s core,'),\n",
       " Document(metadata={'source': 'sage-website/docs/about/architecture.md'}, page_content='the ECR provides a verified and versioned repository of plugin Docker images that are pulled by the nodes when a plugin is to be downloaded as run-time component of a science goal.'),\n",
       " Document(metadata={'source': 'sage-website/docs/about/architecture.md'}, page_content='Details & source code: https://github.com/waggle-sensor/edge-code-repository\\n\\nLambda Triggers (LT)\\n\\nThe Lambda Triggers service provides a framework for running reactive code within the Beehive. There are two kinds of reaction triggers considered here: From-Edge and To-Edge.'),\n",
       " Document(metadata={'source': 'sage-website/docs/about/architecture.md'}, page_content='From-Edge triggers, or messages that originate from an edge node, can be used to trigger lambda functions -- for example, if high wind velocity is detected, a function could be triggered to determine how to reconfigure sensors or launch a computation or send an alert.'),\n",
       " Document(metadata={'source': 'sage-website/docs/about/architecture.md'}, page_content=\"To-Edge triggers are messages that are to change a node's behavior. For example an HPC calculation or cloud-based data analysis could trigger an Edge Scheduler API call to request a science goal to be run on a particular set of edge nodes.\"),\n",
       " Document(metadata={'source': 'sage-website/docs/about/architecture.md'}, page_content='Details & source code: https://github.com/waggle-sensor/lambda-triggers\\n\\nNodes'),\n",
       " Document(metadata={'source': 'sage-website/docs/about/architecture.md'}, page_content=\"Nodes are the edge computing component of the cyberinfrastructure. All nodes consist of 3 items: 1. Persisent storage for housing downloaded plugins and caching published data before it is transferred to the node's Beehive 2. CPU and GPU compute modules where plugins are executed and perform the\"),\n",
       " Document(metadata={'source': 'sage-website/docs/about/architecture.md'}, page_content='accelerated inferences 3. Sensors such as environment sensors, cameras and LiDAR systems'),\n",
       " Document(metadata={'source': 'sage-website/docs/about/architecture.md'}, page_content='Edge nodes enable fast computation @ the edge, leveraging the large non-volatile storage to handle caching of high frequency data (including images, audio and video) in the event the node is \"offline\" from its Beehive. Through expansion ports the nodes support the adding and removing of sensors to'),\n",
       " Document(metadata={'source': 'sage-website/docs/about/architecture.md'}, page_content='fully customize the node deployments for the particular deployment environment.'),\n",
       " Document(metadata={'source': 'sage-website/docs/about/architecture.md'}, page_content='Overall, even though the nodes may use different CPU architectures and different sensor configurations, they all leverage the same Waggle Edge Stack (WES) to run plugins.\\n\\nWild Sage Node (Wild Waggle Node)'),\n",
       " Document(metadata={'source': 'sage-website/docs/about/architecture.md'}, page_content='The Wild Sage Node (or Wild Waggle Node) is a custom built weather-proof enclosure intended for remote outdoor installation. The node features software and hardware resilience via a custom operating system and custom circuit board. Internal to the node is a power supply and PoE network switch'),\n",
       " Document(metadata={'source': 'sage-website/docs/about/architecture.md'}, page_content='supporting the addition of sensors through standard Ethernet (PoE), USB and other embedded protocols via the node expansion ports.'),\n",
       " Document(metadata={'source': 'sage-website/docs/about/architecture.md'}, page_content='The technical capabilities of these nodes consists of: - NVidia Xavier NX ARM64 Node Controller w/ 8GB of shared CPU/GPU RAM - 1 TB of NVMe storage - 4x PoE expansion ports - 1x USB2 expansion port - optional Stevenson Shield housing a RPi 4 w/ environmental sensors & microphone - optional 2nd'),\n",
       " Document(metadata={'source': 'sage-website/docs/about/architecture.md'}, page_content='NVidia Xavier NX ARM64 Edge Processor'),\n",
       " Document(metadata={'source': 'sage-website/docs/about/architecture.md'}, page_content='Node installation manual: https://sagecontinuum.org/docs/installation-manuals/wsn-manual\\n\\nDetails & source code: https://github.com/waggle-sensor/wild-waggle-node\\n\\nBlade Nodes'),\n",
       " Document(metadata={'source': 'sage-website/docs/about/architecture.md'}, page_content='A Blade Node is a standard commercially available server intended for use in a climate controlled machine room, or extended temperature range telecom-grade blades for harsher environments. The AMD64 based operating system supports these types of nodes, enabling the services needed to support WES.'),\n",
       " Document(metadata={'source': 'sage-website/docs/about/architecture.md'}, page_content='The above diagram shows the basic technical configuration of a Blade Node: - Multi-core ARM64 - 32GB of RAM - Dedicated NVida T4 GPU - 1 TB of SSD storage\\n\\nNote: it is possible to add the same optional Stevenson Shield housing that is available to the Wild Sage Nodes'),\n",
       " Document(metadata={'source': 'sage-website/docs/about/architecture.md'}, page_content='Details & source code: https://github.com/waggle-sensor/waggle-blade\\n\\nRunning plugins @ the Edge'),\n",
       " Document(metadata={'source': 'sage-website/docs/about/architecture.md'}, page_content='Included in the Waggle operating systems are the core components necessary to enable running plugins @ the edge. At the heart of this is k3s, which creates a protected & isolated run-time environment. This environment combined with the tools and services provided by WES enable plugin access to the'),\n",
       " Document(metadata={'source': 'sage-website/docs/about/architecture.md'}, page_content=\"node's CPU, GPU, sensors and cameras.\"),\n",
       " Document(metadata={'source': 'sage-website/docs/about/architecture.md'}, page_content='Waggle Edge Stack (WES)'),\n",
       " Document(metadata={'source': 'sage-website/docs/about/architecture.md'}, page_content=\"The Waggle Edge Stack is the set of core services running within the edge node's k3s run-time environment that supports all the features that plugins need to run on the Waggle nodes. The WES services coordinate with the core Beehive services to download & run scheduled plugins (including load\"),\n",
       " Document(metadata={'source': 'sage-website/docs/about/architecture.md'}, page_content='balancing) and facilitate uploading plugin published data to the Beehive data repository. Through abstraction technologies and WES provided tools, plugins have access to sensor and camera data.'),\n",
       " Document(metadata={'source': 'sage-website/docs/about/architecture.md'}, page_content='The above diagram demonstrates 2 plugins running on a Waggle node. Plugin 1 (\"neon-kafka\") is an example plugin that is running alongside Plugin 2 (\"data-smooth\"). In this example, \"neon-kafka\" (via the WES tools) is reading metrics from the node\\'s sensors and then publishing that data within the'),\n",
       " Document(metadata={'source': 'sage-website/docs/about/architecture.md'}, page_content='WES run-time environment (internal to the node). At the same time, the \"data-smooth\" plugin is subscribing to this data stream, performing some sort of inference and then publishing the inference results (via WES tools) to Beehive.'),\n",
       " Document(metadata={'source': 'sage-website/docs/about/architecture.md'}, page_content='Note: see the Edge apps guide on how to create a Waggle plugin.\\n\\nDetails & source code: https://github.com/waggle-sensor/waggle-edge-stack\\n\\nWhat is a plugin?'),\n",
       " Document(metadata={'source': 'sage-website/docs/about/architecture.md'}, page_content='Plugins are the user-developed modules that the cyberinfrastructure is designed around. At it\\'s simplest definition a \"plugin\" is code that runs @ the edge to perform some task. That task may be simply collecting sample camera images or a complex inference combining sensor data and results'),\n",
       " Document(metadata={'source': 'sage-website/docs/about/architecture.md'}, page_content=\"published from other plugins. A plugin's code will interface with the edge node's sensor(s) and then publish resulting data via the tools provided by WES. All developed plugins are hosted by the Beehive Edge Code Repository.\"),\n",
       " Document(metadata={'source': 'sage-website/docs/about/architecture.md'}, page_content='See how to create plugins for details.\\n\\nScience Goals'),\n",
       " Document(metadata={'source': 'sage-website/docs/about/architecture.md'}, page_content='A \"science goal\" is a rule-set for how and when plugins are run on edge nodes. These science goals are created by scientist to accomplish a science objective through the execution of plugins in a specific manner. Goals are created, in a human language, and managed within the Beehive Edge Scheduler.'),\n",
       " Document(metadata={'source': 'sage-website/docs/about/architecture.md'}, page_content=\"It is then the cyberinfrastucture responsibility to deploy the science goals to the edge nodes and execute the goal's plugins. The tutorial walks through running a science goal.\"),\n",
       " Document(metadata={'source': 'sage-website/docs/about/architecture.md'}, page_content='LoRaWAN'),\n",
       " Document(metadata={'source': 'sage-website/docs/about/architecture.md'}, page_content='The Waggle Edge Stack includes the ChirpStack software stack and other services to facilitate communication between Nodes and LoRaWAN devices. This empowers Nodes to effortlessly establish connections with wireless sensors, enabling your plugins to seamlessly access and harness valuable data from'),\n",
       " Document(metadata={'source': 'sage-website/docs/about/architecture.md'}, page_content='these sensors.'),\n",
       " Document(metadata={'source': 'sage-website/docs/about/architecture.md'}, page_content='To get started using LoRaWAN, head over to the Contact Us page. A tutorial will be available soon showing you how to get started with LoRaWAN.'),\n",
       " Document(metadata={'source': 'sage-website/docs/about/architecture.md'}, page_content='The above diagram demonstrates the hardware in Nodes and services in WES that enable Nodes to use LoRaWAN and publish the measurements to a Beehive. The following sections will explain each componenent and service.'),\n",
       " Document(metadata={'source': 'sage-website/docs/about/architecture.md'}, page_content='source code: - wes-chirpstack - wes-chirpstack-server - wes-rabbitmq - Tracker - Lorawan Listener Plugin\\n\\nWhat is LoRaWAN?'),\n",
       " Document(metadata={'source': 'sage-website/docs/about/architecture.md'}, page_content='LoRaWAN, short for \"Long Range Wide Area Network,\" is a wireless communication protocol designed for low-power, long-range communication between IoT (Internet of Things) devices. It employs a low-power wide-area network (LPWAN) technology, making it ideal for connecting remote sensors and devices.'),\n",
       " Document(metadata={'source': 'sage-website/docs/about/architecture.md'}, page_content='For more information view the documentation here.'),\n",
       " Document(metadata={'source': 'sage-website/docs/about/architecture.md'}, page_content='Chirpstack'),\n",
       " Document(metadata={'source': 'sage-website/docs/about/architecture.md'}, page_content='ChirpStack is a robust and open-source LoRaWAN Network Server that enables efficient management of LoRaWAN devices, gateways, and data. Its architecture consists of several crucial components, each serving a distinct role in LoRaWAN network operations. Below, we provide a brief overview of these'),\n",
       " Document(metadata={'source': 'sage-website/docs/about/architecture.md'}, page_content='components along with links to ChirpStack documentation for further insights.'),\n",
       " Document(metadata={'source': 'sage-website/docs/about/architecture.md'}, page_content='Chirpstack documentation\\n\\nUDP Packet Forwarder'),\n",
       " Document(metadata={'source': 'sage-website/docs/about/architecture.md'}, page_content='The UDP Packet Forwarder is an essential component that acts as a bridge between LoRa gateways and the ChirpStack Network Server. It receives incoming packets from LoRa gateways and forwards them to the ChirpStack Gateway Bridge for further processing. To learn more about the UDP Packet Forwarder,'),\n",
       " Document(metadata={'source': 'sage-website/docs/about/architecture.md'}, page_content='refer to the documentation here.'),\n",
       " Document(metadata={'source': 'sage-website/docs/about/architecture.md'}, page_content='ChirpStack Gateway Bridge'),\n",
       " Document(metadata={'source': 'sage-website/docs/about/architecture.md'}, page_content='The ChirpStack Gateway Bridge is responsible for translating gateway-specific protocols into a standard format for the ChirpStack Network Server. It connects to a UDP Packet Forwader, ensuring that data is properly formatted and can be seamlessly processed by the network server. For in-depth'),\n",
       " Document(metadata={'source': 'sage-website/docs/about/architecture.md'}, page_content='information on the ChirpStack Gateway Bridge, explore the documentation here.'),\n",
       " Document(metadata={'source': 'sage-website/docs/about/architecture.md'}, page_content='MQTT Broker'),\n",
       " Document(metadata={'source': 'sage-website/docs/about/architecture.md'}, page_content='WES includes a MQTT (Message Queuing Telemetry Transport) broker to handle communication between various services. MQTT provides a lightweight and efficient messaging system. This service ensures that data flows smoothly between the network server, gateways, and applications. You can find detailed'),\n",
       " Document(metadata={'source': 'sage-website/docs/about/architecture.md'}, page_content='information about the MQTT broker integration in the ChirpStack documentation here.'),\n",
       " Document(metadata={'source': 'sage-website/docs/about/architecture.md'}, page_content='ChirpStack Server'),\n",
       " Document(metadata={'source': 'sage-website/docs/about/architecture.md'}, page_content='The ChirpStack Server serves as the core component, managing device sessions, data, and application integrations. It utilizes Redis for device sessions, metrics, and caching, ensuring efficient data handling and retrieval. For persistent data storage, ChirpStack uses PostgreSQL, accommodating'),\n",
       " Document(metadata={'source': 'sage-website/docs/about/architecture.md'}, page_content='records for tenants, applications, devices, and more. For a comprehensive understanding of the ChirpStack Server and its associated database technologies, consult the ChirpStack documentation here.'),\n",
       " Document(metadata={'source': 'sage-website/docs/about/architecture.md'}, page_content='NOTE: Chirpstack v4 combined the application and network server into one component.\\n\\nTracker'),\n",
       " Document(metadata={'source': 'sage-website/docs/about/architecture.md'}, page_content=\"The Tracker is a service designed to record the connectivity of LoRaWAN devices to the Nodes. This service uses the information received from the MQTT broker to call ChirpStack's gRPC API. The information received from the API is then used to keep the Node's manifest up-to-date. Subsequently, it\"),\n",
       " Document(metadata={'source': 'sage-website/docs/about/architecture.md'}, page_content='forwards this updated manifest to the Beehive. For more information, view the documentation here.'),\n",
       " Document(metadata={'source': 'sage-website/docs/about/architecture.md'}, page_content='Lorawan Listener Plugin\\n\\nThe LoRaWAN Listener is a plugin designed to publish measurements collected from LoRaWAN devices. It simplifies the process of extracting and publishing valuable data from these devices. For more information about the plugin view the plugin page here.'),\n",
       " Document(metadata={'source': 'sage-website/docs/about/architecture.md'}, page_content='Lorawan Device Compatibility\\n\\nThe Wild Sage Node is designed to support a wide range of Lorawan devices, ensuring flexibility and adaptability for various applications. If you are wondering which Lorawan devices can be connected to a Wild Sage Node, the device must have the following tech specs:'),\n",
       " Document(metadata={'source': 'sage-website/docs/about/architecture.md'}, page_content=\"designed for US915 (902–928 MHz) frequency region.\\n\\ncompatible with Lorawan Mac versions 1.0.0 - 1.1.0\\n\\ncompatible with Chirpstack's Lorawan Network Server\\n\\nThe device supports Over-The-Air Activation (OTAA) or Activation By Personalization (ABP)\"),\n",
       " Document(metadata={'source': 'sage-website/docs/about/architecture.md'}, page_content='The device has a Lorawan device class of A, B, or C'),\n",
       " Document(metadata={'source': 'sage-website/docs/about/architecture.md'}, page_content='It is important to note that all channels within the US915 frequency band are enabled in a Wild Sage Node. If you wish to learn more about our Lorawan Gateway, please visit our portal. For inquiries about supporting Lorawan regions other than US915, please Contact Us.\\n\\nDevice Examples'),\n",
       " Document(metadata={'source': 'sage-website/docs/about/architecture.md'}, page_content='Whether you are designing your own Lorawan sensor, looking for a Lorawan data logger, or seeking an off-the-shelf Lorawan device the Wild Sage Node will support it, we have examples for you:\\n\\nDesigning your own Lorawan sensor?\\n\\nArduino MKR WAN 1310\\n\\nLooking for a Lorawan data logger?'),\n",
       " Document(metadata={'source': 'sage-website/docs/about/architecture.md'}, page_content='ICT International MFR Node\\n\\nLooking for an off-the-shelf Lorawan device?\\n\\nICT International SFM1X Sap Flow Meter\\n\\nSeeking Lorawan device manufacturers?\\n\\nICT International\\n\\nRAKwireless\\n\\nThe Things Network Device Marketplace\\n\\nDecentLab'),\n",
       " Document(metadata={'source': 'sage-website/docs/about/overview.md'}, page_content='sidebar_label: Overview sidebar_position: 1\\n\\nSage: A distributed software-defined sensor network.\\n\\nWhat is Sage?'),\n",
       " Document(metadata={'source': 'sage-website/docs/about/overview.md'}, page_content='Geographically distributed sensor systems that include cameras, microphones, and weather and air quality stations can generate such large volumes of data that fast and efficient analysis is best performed by an embedded computer connected directly to the sensor. Sage is exploring new techniques for'),\n",
       " Document(metadata={'source': 'sage-website/docs/about/overview.md'}, page_content='applying machine learning algorithms to data from such intelligent sensors and then building reusable software that can run programs within the embedded computer and transmit the results over the network to central computer servers. Distributed, intelligent sensor networks that can collect and'),\n",
       " Document(metadata={'source': 'sage-website/docs/about/overview.md'}, page_content='analyze data are an essential tool for scientists seeking to understand the impacts of global urbanization, natural disasters such as flooding and wildfires, and climate change on natural ecosystems and city infrastructure.'),\n",
       " Document(metadata={'source': 'sage-website/docs/about/overview.md'}, page_content='Sage is deploying sensor nodes that support machine learning frameworks in environmental testbeds in California, Colorado, and Kansas and in urban environments in Illinois and Texas. The reusable cyberinfrastructure running on these testbeds will give climate, traffic, and ecosystem scientists new'),\n",
       " Document(metadata={'source': 'sage-website/docs/about/overview.md'}, page_content='data for building models to study these coupled systems. The software components developed are open source and provide an open architecture to enable scientists from a wide range of fields to build their own intelligent sensor networks.'),\n",
       " Document(metadata={'source': 'sage-website/docs/about/overview.md'}, page_content='Partners are deploying testbeds in Australia, Japan, UK, and Taiwan, providing scientists with even more data for analysis. The toolkit is also extending the current educational curriculum used in Chicago to inspire young people – with an emphasis on women and minorities, to pursue science,'),\n",
       " Document(metadata={'source': 'sage-website/docs/about/overview.md'}, page_content='technology, and mathematics careers – by providing a platform for students to explore measurement-based science questions related to the natural and built environments.'),\n",
       " Document(metadata={'source': 'sage-website/docs/about/overview.md'}, page_content='The data from sensors and applications is hosted in the cloud to facilitate easy data analysis.\\n\\nWho are the users?\\n\\nThe most common users have included:\\n\\nDomain scientists interested in developing edge AI applications.\\n\\nUsers interested in sensor and application-produced datasets.'),\n",
       " Document(metadata={'source': 'sage-website/docs/about/overview.md'}, page_content='Cyberinfrastructure researchers interested in platform research.\\n\\nDomain scientists interested in adding new sensors and deploying nodes to answer specific science questions.\\n\\nHow do I use the platform?'),\n",
       " Document(metadata={'source': 'sage-website/docs/about/overview.md'}, page_content='This depends on your desired interaction interest. The platform consists of edge compute applications which process data (ex. sensor readings, camera images, audio recordings, etc). These edge applications then produce their own data (ex. inferences) and upload the results to a cloud database. This'),\n",
       " Document(metadata={'source': 'sage-website/docs/about/overview.md'}, page_content='cloud database can be accessed directly and/or additional compute can be performed on the cloud data.'),\n",
       " Document(metadata={'source': 'sage-website/docs/about/overview.md'}, page_content='The entry-point into learning about your interaction with the system might be best directed by getting answers (by following the links) to the question(s) you are most interested in.'),\n",
       " Document(metadata={'source': 'sage-website/docs/about/overview.md'}, page_content='How do I access sensors? - Want to learn about existing, supported sensors? - Do you have a new sensor that you want to write an edge application for?'),\n",
       " Document(metadata={'source': 'sage-website/docs/about/overview.md'}, page_content='How do I run edge apps? - Want to know how to create an edge app? - Want to know how your edge app can get access to edge sensor data? - Want to share your edge app data with other edge applications? - Want to know how to upload data to the cloud?'),\n",
       " Document(metadata={'source': 'sage-website/docs/about/overview.md'}, page_content='How do I access and use data? - Want to learn about how data is stored/organized? - Do you have data that is up in the cloud and want to know how to access it?'),\n",
       " Document(metadata={'source': 'sage-website/docs/about/overview.md'}, page_content='How do I compute in the cloud? - Want to know how to autonomously react to edge produced data? - Want to know how to trigger an HPC event? - Want to get a text message when your edge application does something cool?'),\n",
       " Document(metadata={'source': 'sage-website/docs/about/overview.md'}, page_content='How do I build my own device? - Want to set up your own device for local edge app development? - Want to teach AI to a classroom of students?\\n\\nHow is the cyberinfrastructure architected?'),\n",
       " Document(metadata={'source': 'sage-website/docs/about/overview.md'}, page_content='If you are interested in learning more about how the cyberinfrastructure works you can head on over to the Architecture Overview page.')]"
      ]
     },
     "execution_count": 57,
     "metadata": {},
     "output_type": "execute_result"
    }
   ],
   "source": [
    "splits"
   ]
  },
  {
   "cell_type": "markdown",
   "metadata": {},
   "source": [
    "## Embedding & Vector Database Creation\n",
    "> Try different model and VB"
   ]
  },
  {
   "cell_type": "code",
   "execution_count": 61,
   "metadata": {},
   "outputs": [],
   "source": [
    "# This model was already installed through rag-basic.ipynb\n",
    "ollama_emb = OllamaEmbeddings(model='mxbai-embed-large')"
   ]
  },
  {
   "cell_type": "code",
   "execution_count": 62,
   "metadata": {},
   "outputs": [],
   "source": [
    "# Creates a Chroma VB from a list of Documents\n",
    "# Make sure to run `Ollama serve` in terminal first to host\n",
    "vectordb = Chroma.from_documents(splits, ollama_emb)"
   ]
  },
  {
   "cell_type": "markdown",
   "metadata": {},
   "source": [
    "## Query + Generation\n",
    "> Can change prompt"
   ]
  },
  {
   "cell_type": "code",
   "execution_count": 79,
   "metadata": {},
   "outputs": [],
   "source": [
    "llm = Ollama(model='llama3.1')"
   ]
  },
  {
   "cell_type": "code",
   "execution_count": 82,
   "metadata": {},
   "outputs": [
    {
     "data": {
      "text/plain": [
       "[(Document(metadata={'source': 'sage-website/docs/about/overview.md'}, page_content='sidebar_label: Overview sidebar_position: 1\\n\\nSage: A distributed software-defined sensor network.\\n\\nWhat is Sage?'),\n",
       "  189.1428985595703),\n",
       " (Document(metadata={'source': 'sage-website/docs/about/overview.md'}, page_content='Geographically distributed sensor systems that include cameras, microphones, and weather and air quality stations can generate such large volumes of data that fast and efficient analysis is best performed by an embedded computer connected directly to the sensor. Sage is exploring new techniques for'),\n",
       "  215.6899871826172),\n",
       " (Document(metadata={'source': 'sage-website/docs/about/overview.md'}, page_content='Sage is deploying sensor nodes that support machine learning frameworks in environmental testbeds in California, Colorado, and Kansas and in urban environments in Illinois and Texas. The reusable cyberinfrastructure running on these testbeds will give climate, traffic, and ecosystem scientists new'),\n",
       "  232.5330810546875),\n",
       " (Document(metadata={'source': 'sage-website/docs/about/overview.md'}, page_content='This depends on your desired interaction interest. The platform consists of edge compute applications which process data (ex. sensor readings, camera images, audio recordings, etc). These edge applications then produce their own data (ex. inferences) and upload the results to a cloud database. This'),\n",
       "  246.7559814453125)]"
      ]
     },
     "execution_count": 82,
     "metadata": {},
     "output_type": "execute_result"
    }
   ],
   "source": [
    "# L2 distance comparison\n",
    "# Can filter\n",
    "question = \"What is the Sage project?\"\n",
    "context = vectordb.similarity_search_with_score(query=question, k=4)\n",
    "context"
   ]
  },
  {
   "cell_type": "code",
   "execution_count": 83,
   "metadata": {},
   "outputs": [
    {
     "data": {
      "text/plain": [
       "ChatPromptTemplate(input_variables=['context', 'question'], messages=[HumanMessagePromptTemplate(prompt=PromptTemplate(input_variables=['context', 'question'], template='Using this context: {context}. Respond to this question: {question}'))])"
      ]
     },
     "execution_count": 83,
     "metadata": {},
     "output_type": "execute_result"
    }
   ],
   "source": [
    "template = \"Using this context: {context}. Respond to this question: {question}\"\n",
    "prompt = ChatPromptTemplate.from_template(template)\n",
    "prompt"
   ]
  },
  {
   "cell_type": "code",
   "execution_count": 94,
   "metadata": {},
   "outputs": [
    {
     "name": "stdout",
     "output_type": "stream",
     "text": [
      "According to the provided context, the Sage project appears to be a distributed software-defined sensor network. It involves deploying geographically distributed sensors that collect various types of data (e.g., environmental conditions, audio recordings) and utilizing machine learning frameworks on these nodes for analysis. The goal is to facilitate efficient and fast processing of this data through edge compute applications and cloud-based databases.\n"
     ]
    }
   ],
   "source": [
    "# Just feeds the contexts to the llm - no summary\n",
    "simple_chain = prompt | llm\n",
    "print(simple_chain.invoke({\"context\": context, \"question\": question}))"
   ]
  },
  {
   "cell_type": "markdown",
   "metadata": {},
   "source": [
    "## Query + Chain Generation\n",
    "> Can make retriever more specific"
   ]
  },
  {
   "cell_type": "code",
   "execution_count": 97,
   "metadata": {},
   "outputs": [],
   "source": [
    "# integrate this\n",
    "def format_docs(docs):\n",
    "    return \"\\n\\n\".join(doc.page_content for doc in docs)"
   ]
  },
  {
   "cell_type": "code",
   "execution_count": 90,
   "metadata": {},
   "outputs": [
    {
     "name": "stdout",
     "output_type": "stream",
     "text": [
      "According to the provided context, Sage is a \"distributed software-defined sensor network\".\n"
     ]
    }
   ],
   "source": [
    "## Essentially summarizes the retrieved information \n",
    "retriever = vectordb.as_retriever(search_type='similarity', search_kwargs={\"k\": 1})\n",
    "\n",
    "rag_chain = (\n",
    "    {\"context\": retriever, \"question\": RunnablePassthrough()}\n",
    "    | prompt\n",
    "    | llm\n",
    "    | StrOutputParser()\n",
    ")\n",
    "\n",
    "print(rag_chain.invoke(\"What is the project Sage?\"))"
   ]
  },
  {
   "cell_type": "code",
   "execution_count": 93,
   "metadata": {},
   "outputs": [
    {
     "name": "stdout",
     "output_type": "stream",
     "text": [
      "According to the provided context, Sage is described as:\n",
      "\n",
      "\"...Geographically distributed sensor systems that include cameras, microphones, and weather and air quality stations...\"\n",
      "\n",
      "Additionally, it's mentioned that Sage is \"exploring new techniques for\" analyzing data from these systems.\n",
      "\n",
      "However, a more comprehensive description of Sage is found in another document, which states that Sage is:\n",
      "\n",
      "\"A distributed software-defined sensor network.\"\n",
      "\n",
      "This suggests that Sage is an initiative or project focused on developing and deploying a decentralized, software-driven sensor network to collect and analyze data from various environmental sensors.\n"
     ]
    }
   ],
   "source": [
    "## Essentially summarizes the retrieved information \n",
    "retriever = vectordb.as_retriever(search_type='similarity', search_kwargs={\"k\": 4})\n",
    "\n",
    "rag_chain = (\n",
    "    {\"context\": retriever, \"question\": RunnablePassthrough()}\n",
    "    | prompt\n",
    "    | llm\n",
    "    | StrOutputParser()\n",
    ")\n",
    "\n",
    "print(rag_chain.invoke(\"What is the project Sage?\"))"
   ]
  },
  {
   "cell_type": "code",
   "execution_count": 92,
   "metadata": {},
   "outputs": [
    {
     "name": "stdout",
     "output_type": "stream",
     "text": [
      "According to the provided documents, Sage is a distributed software-defined sensor network that explores new techniques for efficient data analysis in environmental and urban settings. The project involves deploying sensor nodes that support machine learning frameworks in various testbeds across different states in the US. Sage aims to provide climate, traffic, and ecosystem scientists with reusable cyberinfrastructure running on these testbeds.\n",
      "\n",
      "In simpler terms, Sage is a project that uses distributed sensors and software-defined networks to collect and analyze large volumes of data related to environmental and urban conditions, enabling more efficient and effective research and decision-making.\n"
     ]
    }
   ],
   "source": [
    "## Essentially summarizes the retrieved information \n",
    "retriever = vectordb.as_retriever(search_type='similarity', search_kwargs={\"k\": 10})\n",
    "\n",
    "rag_chain = (\n",
    "    {\"context\": retriever, \"question\": RunnablePassthrough()}\n",
    "    | prompt\n",
    "    | llm\n",
    "    | StrOutputParser()\n",
    ")\n",
    "\n",
    "print(rag_chain.invoke(\"What is the project Sage?\"))"
   ]
  },
  {
   "cell_type": "code",
   "execution_count": null,
   "metadata": {},
   "outputs": [],
   "source": []
  }
 ],
 "metadata": {
  "kernelspec": {
   "display_name": "sage",
   "language": "python",
   "name": "python3"
  },
  "language_info": {
   "codemirror_mode": {
    "name": "ipython",
    "version": 3
   },
   "file_extension": ".py",
   "mimetype": "text/x-python",
   "name": "python",
   "nbconvert_exporter": "python",
   "pygments_lexer": "ipython3",
   "version": "3.11.9"
  }
 },
 "nbformat": 4,
 "nbformat_minor": 2
}
